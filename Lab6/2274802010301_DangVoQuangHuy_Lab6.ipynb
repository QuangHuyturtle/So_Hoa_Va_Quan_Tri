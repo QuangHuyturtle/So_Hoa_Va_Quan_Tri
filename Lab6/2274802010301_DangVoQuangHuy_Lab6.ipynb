{
 "cells": [
  {
   "cell_type": "code",
   "execution_count": null,
   "metadata": {},
   "outputs": [],
   "source": [
    "import torch\n",
    "\n",
    "torch.cuda.is_available()\n",
    "\n",
    "#Sử dụng GPU và CUDA\n",
    "torch.cuda.current_device\n",
    "\n",
    "torch.cuda.get_device_name(0)\n",
    "\n",
    "torch.cuda.memory_allocated()\n",
    "\n",
    "\n",
    "#Trả về bộ nhớ GPU hiện tại được quản lý bởi bộ phân bố bộ nhớ đệm theo byte\n",
    "torch.cuda.memory_cached()"
   ]
  },
  {
   "cell_type": "code",
   "execution_count": 9,
   "metadata": {},
   "outputs": [
    {
     "data": {
      "text/html": [
       "<div>\n",
       "<style scoped>\n",
       "    .dataframe tbody tr th:only-of-type {\n",
       "        vertical-align: middle;\n",
       "    }\n",
       "\n",
       "    .dataframe tbody tr th {\n",
       "        vertical-align: top;\n",
       "    }\n",
       "\n",
       "    .dataframe thead th {\n",
       "        text-align: right;\n",
       "    }\n",
       "</style>\n",
       "<table border=\"1\" class=\"dataframe\">\n",
       "  <thead>\n",
       "    <tr style=\"text-align: right;\">\n",
       "      <th></th>\n",
       "      <th>Id</th>\n",
       "      <th>SepalLengthCm</th>\n",
       "      <th>SepalWidthCm</th>\n",
       "      <th>PetalLengthCm</th>\n",
       "      <th>PetalWidthCm</th>\n",
       "      <th>Species</th>\n",
       "    </tr>\n",
       "  </thead>\n",
       "  <tbody>\n",
       "    <tr>\n",
       "      <th>0</th>\n",
       "      <td>1</td>\n",
       "      <td>5.1</td>\n",
       "      <td>3.5</td>\n",
       "      <td>1.4</td>\n",
       "      <td>0.2</td>\n",
       "      <td>Iris-setosa</td>\n",
       "    </tr>\n",
       "    <tr>\n",
       "      <th>1</th>\n",
       "      <td>2</td>\n",
       "      <td>4.9</td>\n",
       "      <td>3.0</td>\n",
       "      <td>1.4</td>\n",
       "      <td>0.2</td>\n",
       "      <td>Iris-setosa</td>\n",
       "    </tr>\n",
       "    <tr>\n",
       "      <th>2</th>\n",
       "      <td>3</td>\n",
       "      <td>4.7</td>\n",
       "      <td>3.2</td>\n",
       "      <td>1.3</td>\n",
       "      <td>0.2</td>\n",
       "      <td>Iris-setosa</td>\n",
       "    </tr>\n",
       "    <tr>\n",
       "      <th>3</th>\n",
       "      <td>4</td>\n",
       "      <td>4.6</td>\n",
       "      <td>3.1</td>\n",
       "      <td>1.5</td>\n",
       "      <td>0.2</td>\n",
       "      <td>Iris-setosa</td>\n",
       "    </tr>\n",
       "    <tr>\n",
       "      <th>4</th>\n",
       "      <td>5</td>\n",
       "      <td>5.0</td>\n",
       "      <td>3.6</td>\n",
       "      <td>1.4</td>\n",
       "      <td>0.2</td>\n",
       "      <td>Iris-setosa</td>\n",
       "    </tr>\n",
       "  </tbody>\n",
       "</table>\n",
       "</div>"
      ],
      "text/plain": [
       "   Id  SepalLengthCm  SepalWidthCm  PetalLengthCm  PetalWidthCm      Species\n",
       "0   1            5.1           3.5            1.4           0.2  Iris-setosa\n",
       "1   2            4.9           3.0            1.4           0.2  Iris-setosa\n",
       "2   3            4.7           3.2            1.3           0.2  Iris-setosa\n",
       "3   4            4.6           3.1            1.5           0.2  Iris-setosa\n",
       "4   5            5.0           3.6            1.4           0.2  Iris-setosa"
      ]
     },
     "execution_count": 9,
     "metadata": {},
     "output_type": "execute_result"
    }
   ],
   "source": [
    "import torch\n",
    "import numpy as np\n",
    "import matplotlib.pyplot as plt\n",
    "import pandas as pd\n",
    "\n",
    "#\n",
    "df=pd.read_csv('/Users/qytheturtle/Documents/HK3/Số hoá và quản trị thông tin số/Lab6/Iris.csv')\n",
    "df.head()\n",
    "\n",
    "\n",
    "\n"
   ]
  },
  {
   "cell_type": "code",
   "execution_count": 7,
   "metadata": {},
   "outputs": [
    {
     "data": {
      "text/plain": [
       "(150, 6)"
      ]
     },
     "execution_count": 7,
     "metadata": {},
     "output_type": "execute_result"
    }
   ],
   "source": [
    "df.shape"
   ]
  },
  {
   "cell_type": "code",
   "execution_count": 11,
   "metadata": {},
   "outputs": [
    {
     "name": "stdout",
     "output_type": "stream",
     "text": [
      "train size 120\n"
     ]
    }
   ],
   "source": [
    "from sklearn.model_selection import train_test_split\n",
    "from sklearn.preprocessing import LabelEncoder\n",
    "\n",
    "le=LabelEncoder()\n",
    "X=df.drop(columns=['Species'],axis=1).values    \n",
    "y=le.fit_transform(df['Species'].values)\n",
    "\n",
    "#chia dữ liệu với test size=0.2\n",
    "X_train,X_test,y_train,y_test=train_test_split(X,y,test_size=0.2,random_state=42)\n",
    "X_train=torch.FloatTensor(X_train)\n",
    "X_test=torch.FloatTensor(X_test)\n",
    "y_train=torch.LongTensor(y_train).reshape(-1,1)\n",
    "y_test=torch.LongTensor(y_test).reshape(-1,1)\n",
    "\n",
    "print(f'train size {len(y_train)}')\n"
   ]
  },
  {
   "cell_type": "code",
   "execution_count": 13,
   "metadata": {},
   "outputs": [
    {
     "name": "stdout",
     "output_type": "stream",
     "text": [
      "tensor([0, 1, 2]) tensor([40, 41, 39])\n"
     ]
    }
   ],
   "source": [
    "labels,counts=y_train.unique(return_counts=True)\n",
    "print(labels,counts)"
   ]
  },
  {
   "cell_type": "code",
   "execution_count": 14,
   "metadata": {},
   "outputs": [
    {
     "name": "stdout",
     "output_type": "stream",
     "text": [
      "tensor(2., requires_grad=True)\n",
      "None\n"
     ]
    }
   ],
   "source": [
    "#Tính đạo hàm bằng pytorch\n",
    "\n",
    "#cho y= 2x^4 + x^3 + 3x^2 + 5x + 1\n",
    "\n",
    "#tính y'\n",
    "\n",
    "import torch\n",
    "\n",
    "x=torch.tensor(2.0,requires_grad=True)\n",
    "print(x)\n",
    "print(x.grad)\n"
   ]
  },
  {
   "cell_type": "code",
   "execution_count": 15,
   "metadata": {},
   "outputs": [
    {
     "name": "stdout",
     "output_type": "stream",
     "text": [
      "tensor(63., grad_fn=<AddBackward0>)\n"
     ]
    }
   ],
   "source": [
    "#Định nghĩa hàm\n",
    "\n",
    "y=2*x**4 + x**3 + 3*x**2 + 5*x + 1\n",
    "print(y)"
   ]
  },
  {
   "cell_type": "code",
   "execution_count": 16,
   "metadata": {},
   "outputs": [
    {
     "data": {
      "text/plain": [
       "<AddBackward0 at 0x301080280>"
      ]
     },
     "execution_count": 16,
     "metadata": {},
     "output_type": "execute_result"
    }
   ],
   "source": [
    "y.grad_fn"
   ]
  },
  {
   "cell_type": "code",
   "execution_count": 17,
   "metadata": {},
   "outputs": [],
   "source": [
    "#Thực hiện truyền ngược và tính toán các gradient\n",
    "y.backward()"
   ]
  },
  {
   "cell_type": "code",
   "execution_count": 18,
   "metadata": {},
   "outputs": [
    {
     "data": {
      "text/plain": [
       "tensor(93.)"
      ]
     },
     "execution_count": 18,
     "metadata": {},
     "output_type": "execute_result"
    }
   ],
   "source": [
    "#Kết quả đạo hàm\n",
    "x.grad"
   ]
  },
  {
   "cell_type": "code",
   "execution_count": null,
   "metadata": {},
   "outputs": [
    {
     "name": "stdout",
     "output_type": "stream",
     "text": [
      "Độ dốc của đa thức tại x = 2.0 là: 1161.0\n"
     ]
    }
   ],
   "source": [
    "#Bài tập\n",
    "\n",
    "#Cho y= 5x^6 +3x^3+ 2x^1 +x +2x +5x^4 +1\n",
    "\n",
    "#Cho biết độ dốc của đa thức trên tại điểm nào \n",
    "\n",
    "import torch\n",
    "\n",
    "# Khởi tạo biến x với khả năng tính đạo hàm\n",
    "x = torch.tensor(2.0, requires_grad=True)  # Đang tính tại x = 2\n",
    "\n",
    "# Định nghĩa hàm y = 5x^6 + 3x^3 + 2x^1 + x + 2x + 5x^4 + 1\n",
    "y = 5*x**6 + 3*x**3 + 2*x + x + 2*x + 5*x**4 + 1\n",
    "\n",
    "# Tính đạo hàm\n",
    "y.backward()\n",
    "\n",
    "# In kết quả\n",
    "print(f\"Độ dốc của đa thức tại x = {x.item()} là: {x.grad.item()}\")\n"
   ]
  },
  {
   "cell_type": "markdown",
   "metadata": {},
   "source": [
    "    BTVN1:\n",
    "    Tạo một sensor có giá trị ban đầu là 2.0\n",
    "    Định nghĩa tạo hàm số và tính gradient\n",
    "    y= x^3 + 2x^2 + 5x + 1\n",
    "    hãy tính dy/dx tại giá trị của x\n",
    "    Dùng phương pháp Gradient Descent với learning rate alpha= 0.1 để cập nhật giá trị x trong 10 vòng lặp\n",
    "\n"
   ]
  },
  {
   "cell_type": "code",
   "execution_count": 24,
   "metadata": {},
   "outputs": [
    {
     "name": "stdout",
     "output_type": "stream",
     "text": [
      "Vòng lặp 1: x = -0.5\n",
      "Vòng lặp 2: x = -0.875\n",
      "Vòng lặp 3: x = -1.2546875476837158\n",
      "Vòng lặp 4: x = -1.7250847816467285\n",
      "Vòng lặp 5: x = -2.427826166152954\n",
      "Vòng lặp 6: x = -3.7249975204467773\n",
      "Vòng lặp 7: x = -6.897680282592773\n",
      "Vòng lặp 8: x = -18.912006378173828\n",
      "Vòng lặp 9: x = -119.14640808105469\n",
      "Vòng lặp 10: x = -4330.74755859375\n"
     ]
    }
   ],
   "source": [
    "#BTVN1 :\n",
    "import torch\n",
    "\n",
    "# Khởi tạo biến x với khả năng tính đạo hàm\n",
    "x = torch.tensor(2.0, requires_grad=True)  # Giá trị ban đầu của x\n",
    "\n",
    "# Số vòng lặp và learning rate\n",
    "num_iterations = 10\n",
    "alpha = 0.1\n",
    "\n",
    "# Lặp lại quá trình cập nhật giá trị x bằng Gradient Descent\n",
    "for i in range(num_iterations):\n",
    "    # Định nghĩa hàm số\n",
    "    y = x**3 + 2*x**2 + 5*x + 1\n",
    "    \n",
    "    # Tính đạo hàm\n",
    "    y.backward()\n",
    "    \n",
    "    # Cập nhật giá trị x bằng Gradient Descent\n",
    "    with torch.no_grad():\n",
    "        x -= alpha * x.grad  # Cập nhật x\n",
    "        x.grad.zero_()  # Đặt lại gradient về 0 để tránh cộng dồn\n",
    "    \n",
    "    # In kết quả sau mỗi vòng lặp\n",
    "    print(f\"Vòng lặp {i+1}: x = {x.item()}\")\n"
   ]
  },
  {
   "cell_type": "markdown",
   "metadata": {},
   "source": [
    "BTVN2:\n",
    "Tạo một tập dữ liệu giả lập với x là số giờ học (ngẫu nhiên từ 1-10)và y là số điểm được tính theo công thức y= 3x+5 + noise\n",
    "Với noise là một giá trị ngẫu nhiên nhỏ\n",
    "\n",
    "1.Khởi tạo tham số w và b ngẫu nhiên với requires_grad=true\n",
    "2.Tính MSE\n",
    "3.Tính gradient\n",
    "4.Cập nhật tham số w và b bằng Gradient Descent với Learning rate alpha=0.01\n",
    "5.Lặp lại quá trình trên trong 100 vòng lặp và quan sát sự hội tụ của mô hình"
   ]
  },
  {
   "cell_type": "code",
   "execution_count": 25,
   "metadata": {},
   "outputs": [
    {
     "name": "stdout",
     "output_type": "stream",
     "text": [
      "Vòng lặp 10: Loss = 5.833234786987305, w = 3.79378342628479, b = -0.1453780233860016\n",
      "Vòng lặp 20: Loss = 5.388791084289551, w = 3.7622311115264893, b = 0.06238146126270294\n",
      "Vòng lặp 30: Loss = 4.9800591468811035, w = 3.7319564819335938, b = 0.26161646842956543\n",
      "Vòng lặp 40: Loss = 4.604171276092529, w = 3.7029237747192383, b = 0.4526791572570801\n",
      "Vòng lặp 50: Loss = 4.258488178253174, w = 3.675081968307495, b = 0.6359046101570129\n",
      "Vòng lặp 60: Loss = 3.9405834674835205, w = 3.6483819484710693, b = 0.8116145133972168\n",
      "Vòng lặp 70: Loss = 3.6482224464416504, w = 3.622777223587036, b = 0.9801169633865356\n",
      "Vòng lặp 80: Loss = 3.379354953765869, w = 3.5982229709625244, b = 1.1417076587677002\n",
      "Vòng lặp 90: Loss = 3.132091999053955, w = 3.5746757984161377, b = 1.2966704368591309\n",
      "Vòng lặp 100: Loss = 2.9046971797943115, w = 3.5520944595336914, b = 1.4452763795852661\n"
     ]
    }
   ],
   "source": [
    "#BTVN2:\n",
    "import torch\n",
    "import random\n",
    "\n",
    "# Tạo tập dữ liệu giả lập\n",
    "num_samples = 100\n",
    "x = torch.tensor([random.uniform(1, 10) for _ in range(num_samples)], dtype=torch.float32)\n",
    "noise = torch.tensor([random.uniform(-1, 1) for _ in range(num_samples)], dtype=torch.float32)\n",
    "y = 3 * x + 5 + noise  # Công thức y = 3x + 5 + noise\n",
    "\n",
    "# Khởi tạo tham số w và b\n",
    "w = torch.randn(1, requires_grad=True, dtype=torch.float32)\n",
    "b = torch.randn(1, requires_grad=True, dtype=torch.float32)\n",
    "\n",
    "# Số vòng lặp và learning rate\n",
    "num_iterations = 100\n",
    "alpha = 0.01\n",
    "\n",
    "# Quá trình huấn luyện bằng Gradient Descent\n",
    "for i in range(num_iterations):\n",
    "    # Dự đoán giá trị y dựa trên w và b\n",
    "    y_pred = w * x + b\n",
    "    \n",
    "    # Tính MSE (Mean Squared Error)\n",
    "    loss = torch.mean((y_pred - y) ** 2)\n",
    "    \n",
    "    # Tính gradient\n",
    "    loss.backward()\n",
    "    \n",
    "    # Cập nhật tham số w và b\n",
    "    with torch.no_grad():\n",
    "        w -= alpha * w.grad\n",
    "        b -= alpha * b.grad\n",
    "        \n",
    "        # Đặt lại gradient về 0 để tránh cộng dồn\n",
    "        w.grad.zero_()\n",
    "        b.grad.zero_()\n",
    "    \n",
    "    # In kết quả sau mỗi 10 vòng lặp\n",
    "    if (i + 1) % 10 == 0:\n",
    "        print(f\"Vòng lặp {i+1}: Loss = {loss.item()}, w = {w.item()}, b = {b.item()}\")\n"
   ]
  }
 ],
 "metadata": {
  "kernelspec": {
   "display_name": "Python 3",
   "language": "python",
   "name": "python3"
  },
  "language_info": {
   "codemirror_mode": {
    "name": "ipython",
    "version": 3
   },
   "file_extension": ".py",
   "mimetype": "text/x-python",
   "name": "python",
   "nbconvert_exporter": "python",
   "pygments_lexer": "ipython3",
   "version": "3.12.3"
  }
 },
 "nbformat": 4,
 "nbformat_minor": 2
}
